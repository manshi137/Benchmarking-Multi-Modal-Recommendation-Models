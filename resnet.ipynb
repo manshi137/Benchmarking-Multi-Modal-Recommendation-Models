{
 "cells": [
  {
   "cell_type": "code",
   "execution_count": null,
   "metadata": {},
   "outputs": [],
   "source": [
    "import os\n",
    "import torch\n",
    "import torchvision.transforms as transforms\n",
    "import torchvision.models as models\n",
    "from torch.autograd import Variable\n",
    "from PIL import Image\n",
    "\n",
    "# Set the path to your image folder\n",
    "image_folder_path = \"movie_posters\"  # Replace with the path to your \"movie_posters\" folder\n",
    "\n",
    "# Load the pre-trained ResNet-50 model\n",
    "resnet = models.resnet50(pretrained=True)\n",
    "resnet.eval()  # Set the model to evaluation mode\n",
    "\n",
    "# Define the transformation to preprocess the images\n",
    "preprocess = transforms.Compose([\n",
    "    transforms.Resize(256),\n",
    "    transforms.CenterCrop(224),\n",
    "    transforms.ToTensor(),\n",
    "    transforms.Normalize(mean=[0.485, 0.456, 0.406], std=[0.229, 0.224, 0.225]),\n",
    "])\n",
    "\n",
    "embeddings = []\n",
    "\n",
    "# Get a list of all image file paths in the folder\n",
    "image_paths = [os.path.join(image_folder_path, file) for file in os.listdir(image_folder_path) if file.endswith(\".jpg\")]\n",
    "\n",
    "# Process images one by one and generate embeddings\n",
    "for image_path in image_paths:\n",
    "    image = Image.open(image_path)\n",
    "    image = preprocess(image)\n",
    "    image = image.unsqueeze(0)  # Add batch dimension\n",
    "    print(\"Processing:\", image_path)\n",
    "\n",
    "    with torch.no_grad():\n",
    "        embedding = resnet(image)\n",
    "    embeddings.append(embedding)\n",
    "\n",
    "# 'embeddings' now contains the feature vectors for all images in the \"movie_posters\" folder\n",
    "embeddings = torch.cat(embeddings, 0)\n",
    "\n",
    "# Now, 'embeddings' contains the feature vectors for all images in the \"movie_posters\" folder\n",
    "print(embeddings.shape)  # The shape will be (num_images, 1000) for ResNet-50\n"
   ]
  }
 ],
 "metadata": {
  "kernelspec": {
   "display_name": "Python 3",
   "language": "python",
   "name": "python3"
  },
  "language_info": {
   "codemirror_mode": {
    "name": "ipython",
    "version": 3
   },
   "file_extension": ".py",
   "mimetype": "text/x-python",
   "name": "python",
   "nbconvert_exporter": "python",
   "pygments_lexer": "ipython3",
   "version": "3.8.10"
  },
  "orig_nbformat": 4
 },
 "nbformat": 4,
 "nbformat_minor": 2
}
