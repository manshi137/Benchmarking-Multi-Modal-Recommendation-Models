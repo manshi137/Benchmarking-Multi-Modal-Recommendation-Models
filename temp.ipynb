{
 "cells": [
  {
   "cell_type": "code",
   "execution_count": 4,
   "metadata": {},
   "outputs": [
    {
     "name": "stdout",
     "output_type": "stream",
     "text": [
      "Data has been written to data/ml100k/u_id_mapping.csv.\n"
     ]
    }
   ],
   "source": [
    "# import csv\n",
    "# import torch\n",
    "# import numpy as np\n",
    "import random\n",
    "\n",
    "\n",
    "import csv\n",
    "\n",
    "\n",
    "inputcsv = 'data/baby/u_id_mapping.csv'\n",
    "\n",
    "# List to store the data\n",
    "data_array = []\n",
    "# headers = [\"userID\",  \"itemID\",  \"rating\",  \"timestamp\",   \"x_label\"]\n",
    "# data_array.append(headers)\n",
    "\n",
    "# Reading data from the CSV file\n",
    "with open(inputcsv, mode='r') as file:\n",
    "    reader = csv.reader(file, delimiter='\\t')\n",
    "    for row in reader:\n",
    "        # row.append(random.randint(0, 1000)%3)\n",
    "        data_array.append(row)\n",
    "\n",
    "# Display the data\n",
    "# for row in data_array:\n",
    "#     print(row)\n",
    "\n",
    "\n",
    "outputcsv = 'data/ml100k/u_id_mapping.csv'\n",
    "\n",
    "# Writing data to the CSV file\n",
    "with open(outputcsv, mode='w', newline='') as file:\n",
    "    writer = csv.writer(file, delimiter='\\t')\n",
    "    for i in range(944):\n",
    "        writer.writerow(data_array[i])\n",
    "\n",
    "print(f'Data has been written to {outputcsv}.')\n"
   ]
  },
  {
   "cell_type": "code",
   "execution_count": 2,
   "metadata": {},
   "outputs": [
    {
     "name": "stdout",
     "output_type": "stream",
     "text": [
      "Data has been written to...... data/ml100k/ml100k.inter.\n"
     ]
    }
   ],
   "source": [
    "# import csv\n",
    "# import torch\n",
    "# import numpy as np\n",
    "import random\n",
    "\n",
    "\n",
    "import csv\n",
    "\n",
    "\n",
    "inputcsv = 'data/ml100k/ml100k.inter'\n",
    "\n",
    "# List to store the data\n",
    "data_array = []\n",
    "headers = [\"userID\",  \"itemID\",  \"rating\",  \"timestamp\",   \"x_label\"]\n",
    "data_array.append(headers)\n",
    "\n",
    "i=0\n",
    "# Reading data from the CSV file\n",
    "with open(inputcsv, mode='r') as file:\n",
    "    reader = csv.reader(file, delimiter='\\t')\n",
    "    for row in reader:\n",
    "        if i==0:\n",
    "            i+=1\n",
    "            continue\n",
    "        elif i<=75000:\n",
    "            row[-1]=0\n",
    "        elif i>75000 and i<=87000:\n",
    "            row[-1]=1\n",
    "        else:\n",
    "            row[-1]=2\n",
    "        i+=1\n",
    "        data_array.append(row)\n",
    "\n",
    "# Display the data\n",
    "# for row in data_array:\n",
    "#     if row[0]=='userID' or row[1]=='itemID':\n",
    "#         continue\n",
    "#     temp= int(row[0])\n",
    "#     row[0]= str(temp-1)\n",
    "#     temp= int(row[1])\n",
    "#     row[1]= str(temp-1)\n",
    "    \n",
    "    # print(row)\n",
    "\n",
    "\n",
    "outputcsv = 'data/ml100k/ml100k.inter'\n",
    "\n",
    "# Writing data to the CSV file\n",
    "with open(outputcsv, mode='w', newline='') as file:\n",
    "    writer = csv.writer(file, delimiter='\\t')\n",
    "    for i in range(len(data_array)):\n",
    "        writer.writerow(data_array[i])\n",
    "\n",
    "print(f'Data has been written to...... {outputcsv}.')\n"
   ]
  },
  {
   "cell_type": "code",
   "execution_count": 6,
   "metadata": {},
   "outputs": [
    {
     "name": "stdout",
     "output_type": "stream",
     "text": [
      "Data has been written to data/ml100k/i_id_mapping.csv.\n"
     ]
    }
   ],
   "source": [
    "import csv\n",
    "import re\n",
    "\n",
    "file_path = 'items.csv'\n",
    "file = open(file_path, encoding=\"utf8\")\n",
    "\n",
    "data_reader = csv.reader(file)\n",
    "data = [row for row in data_reader]\n",
    "\n",
    "id2name = {}\n",
    "moviedesc = []\n",
    "movie_names = []\n",
    "\n",
    "\n",
    "for i in range(1, len(data)):\n",
    "    movie_names.append(data[i][5])\n",
    "    # print({i-1}, {data[i][5]})\n",
    "\n",
    "for i in range(len(movie_names)):\n",
    "    movie_names[i] = movie_names[i].strip()\n",
    "    movie_names[i] = movie_names[i][:-6]\n",
    "    movie_names[i] = movie_names[i].strip()\n",
    "    # tmp = tmp = re.sub(r'[\\\\/:\"*?<>|]', '', movie_names[i])\n",
    "\n",
    "for i in range(len(movie_names)):\n",
    "    tmp = tmp = re.sub(r'[\\\\/:\"*?<>|]', '', movie_names[i])\n",
    "    id2name[i] = str(i)+\"_\"+tmp\n",
    "\n",
    "outputcsv = 'data/ml100k/i_id_mapping.csv'\n",
    "headers = [\"asin\", \"itemID\"]\n",
    "data_array = []\n",
    "data_array.append(headers)\n",
    "\n",
    "for i in range(len(id2name)):\n",
    "    data_array.append([id2name[i], i])\n",
    "\n",
    "# Writing data to the CSV file\n",
    "with open(outputcsv, mode='w', newline='') as file:\n",
    "    writer = csv.writer(file, delimiter='\\t')\n",
    "    for i in range(len(data_array)):\n",
    "        writer.writerow(data_array[i])\n",
    "\n",
    "print(f'Data has been written to {outputcsv}.')"
   ]
  }
 ],
 "metadata": {
  "kernelspec": {
   "display_name": "Python 3",
   "language": "python",
   "name": "python3"
  },
  "language_info": {
   "codemirror_mode": {
    "name": "ipython",
    "version": 3
   },
   "file_extension": ".py",
   "mimetype": "text/x-python",
   "name": "python",
   "nbconvert_exporter": "python",
   "pygments_lexer": "ipython3",
   "version": "3.11.5"
  },
  "orig_nbformat": 4
 },
 "nbformat": 4,
 "nbformat_minor": 2
}
